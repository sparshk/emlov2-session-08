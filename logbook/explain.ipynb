{
 "cells": [
  {
   "cell_type": "code",
   "execution_count": null,
   "metadata": {},
   "outputs": [],
   "source": [
    "import requests\n",
    "import torch\n",
    "import numpy as np\n",
    "import torchvision.transforms as T\n",
    "\n",
    "from PIL import Image\n",
    "\n",
    "from captum.attr import visualization as viz\n",
    "import matplotlib.pyplot as plt\n",
    "res = requests.post(\"http://localhost:8080/explanations/cifar\", files={'data': open('/home/ubuntu/emlov2-session-08/test_serve/image/1000_truck.png', 'rb')})\n",
    "\n",
    "ig = res.json()\n",
    "\n",
    "img_path = \"/home/ubuntu/emlov2-session-08/test_serve/image/1000_truck.png\"\n",
    "\n",
    "inp_image = Image.open(img_path)\n",
    "to_tensor = T.Compose(\n",
    "            [\n",
    "                T.Resize(224),\n",
    "                T.ToTensor(),\n",
    "                T.Normalize((0.5, 0.5, 0.5), (0.5, 0.5, 0.5)),\n",
    "            ]\n",
    "        )\n",
    "inp_image = to_tensor(inp_image)\n",
    "\n",
    "inp_image = inp_image.numpy()\n",
    "attributions = np.array(ig)\n",
    "\n",
    "inp_image, attributions = inp_image.transpose(1, 2, 0), attributions.transpose(1, 2, 0)\n",
    "\n",
    "inp_image.shape, attributions.shape\n",
    "\n",
    "plt.imshow(inp_image, cmap=\"inferno\")\n",
    "\n",
    "print(viz.visualize_image_attr(attributions, inp_image, method=\"blended_heat_map\",sign=\"all\", show_colorbar=True, title=\"Overlayed Integrated Gradients\"))"
   ]
  }
 ],
 "metadata": {
  "kernelspec": {
   "display_name": "Python 3.5.2 64-bit",
   "language": "python",
   "name": "python3"
  },
  "language_info": {
   "name": "python",
   "version": "3.5.2"
  },
  "orig_nbformat": 4,
  "vscode": {
   "interpreter": {
    "hash": "31f2aee4e71d21fbe5cf8b01ff0e069b9275f58929596ceb00d14d90e3e16cd6"
   }
  }
 },
 "nbformat": 4,
 "nbformat_minor": 2
}
